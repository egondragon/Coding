{
 "cells": [
  {
   "cell_type": "code",
   "execution_count": 1,
   "id": "be7f8b55-a1f2-446c-8a41-205c0c968898",
   "metadata": {},
   "outputs": [
    {
     "name": "stdout",
     "output_type": "stream",
     "text": [
      "Defaulting to user installation because normal site-packages is not writeable\n",
      "Collecting py_vollib\n",
      "  Downloading py_vollib-1.0.1.tar.gz (19 kB)\n",
      "  Preparing metadata (setup.py) ... \u001b[?25ldone\n",
      "\u001b[?25hCollecting py_lets_be_rational\n",
      "  Downloading py_lets_be_rational-1.0.1.tar.gz (18 kB)\n",
      "  Preparing metadata (setup.py) ... \u001b[?25ldone\n",
      "\u001b[?25hCollecting simplejson\n",
      "  Downloading simplejson-3.19.2-cp311-cp311-manylinux_2_5_x86_64.manylinux1_x86_64.manylinux_2_17_x86_64.manylinux2014_x86_64.whl (144 kB)\n",
      "\u001b[2K     \u001b[38;2;114;156;31m━━━━━━━━━━━━━━━━━━━━━━━━━━━━━━━━━━━━━━━\u001b[0m \u001b[32m144.7/144.7 kB\u001b[0m \u001b[31m2.8 MB/s\u001b[0m eta \u001b[36m0:00:00\u001b[0m MB/s\u001b[0m eta \u001b[36m0:00:01\u001b[0m\n",
      "\u001b[?25hRequirement already satisfied: numpy in ./.local/lib/python3.11/site-packages (from py_vollib) (1.26.0)\n",
      "Requirement already satisfied: pandas in ./.local/lib/python3.11/site-packages (from py_vollib) (2.1.1)\n",
      "Requirement already satisfied: scipy in ./.local/lib/python3.11/site-packages (from py_vollib) (1.11.3)\n",
      "Requirement already satisfied: python-dateutil>=2.8.2 in /usr/lib/python3.11/site-packages (from pandas->py_vollib) (2.8.2)\n",
      "Requirement already satisfied: pytz>=2020.1 in ./.local/lib/python3.11/site-packages (from pandas->py_vollib) (2023.3.post1)\n",
      "Requirement already satisfied: tzdata>=2022.1 in ./.local/lib/python3.11/site-packages (from pandas->py_vollib) (2023.3)\n",
      "Requirement already satisfied: six>=1.5 in /usr/lib/python3.11/site-packages (from python-dateutil>=2.8.2->pandas->py_vollib) (1.16.0)\n",
      "Installing collected packages: simplejson, py_lets_be_rational, py_vollib\n",
      "\u001b[33m  DEPRECATION: py_lets_be_rational is being installed using the legacy 'setup.py install' method, because it does not have a 'pyproject.toml' and the 'wheel' package is not installed. pip 23.1 will enforce this behaviour change. A possible replacement is to enable the '--use-pep517' option. Discussion can be found at https://github.com/pypa/pip/issues/8559\u001b[0m\u001b[33m\n",
      "\u001b[0m  Running setup.py install for py_lets_be_rational ... \u001b[?25ldone\n",
      "\u001b[33m  DEPRECATION: py_vollib is being installed using the legacy 'setup.py install' method, because it does not have a 'pyproject.toml' and the 'wheel' package is not installed. pip 23.1 will enforce this behaviour change. A possible replacement is to enable the '--use-pep517' option. Discussion can be found at https://github.com/pypa/pip/issues/8559\u001b[0m\u001b[33m\n",
      "\u001b[0m\u001b[?25h  Running setup.py install for py_vollib ... \u001b[?25ldone\n",
      "\u001b[?25hSuccessfully installed py_lets_be_rational-1.0.1 py_vollib-1.0.1 simplejson-3.19.2\n"
     ]
    }
   ],
   "source": [
    "!pip install py_vollib\n"
   ]
  },
  {
   "cell_type": "code",
   "execution_count": 5,
   "id": "ef850b5f-49b0-47cb-80ee-8b7d46c5a3b1",
   "metadata": {},
   "outputs": [],
   "source": [
    "from py_vollib.black_scholes import black_scholes as bs\n",
    "from py_vollib.black_scholes.greeks.analytical import vega\n"
   ]
  },
  {
   "cell_type": "code",
   "execution_count": 19,
   "id": "6ebce116-6e04-4eaf-ab2f-699824339da2",
   "metadata": {},
   "outputs": [],
   "source": [
    "def implied_vol(S0, K, T, r, market_price, flag='c', tol=0.0001):\n",
    "    # Compute implied volatility of Eu opetion\n",
    "    # Market price = option price in the market\n",
    "    max_iter = 200\n",
    "    vol_old = 0.3\n",
    "    for k in range(max_iter):\n",
    "        bs_price = bs(flag, S0, K, T, r, vol_old)\n",
    "        C_Prime = vega(flag, S0, K, T, r, vol_old) * 100\n",
    "        C = bs_price - market_price\n",
    "        vol_new = vol_old - C / C_Prime\n",
    "        new_bs_price = bs(flag, S0, K, T, r, vol_new)\n",
    "        if (abs(vol_old - vol_new) < tol or abs(new_bs_price - market_price) < tol):\n",
    "            break\n",
    "        vol_old = vol_new\n",
    "    implied_vol = vol_new\n",
    "    return implied_vol\n",
    "    "
   ]
  },
  {
   "cell_type": "code",
   "execution_count": 22,
   "id": "78b1557c-f634-4a53-a533-7919a91b7130",
   "metadata": {},
   "outputs": [
    {
     "name": "stdout",
     "output_type": "stream",
     "text": [
      "Implied volatility = 0.2885679954664969\n"
     ]
    }
   ],
   "source": [
    "S0, K, T, r  = 30, 28, 0.5, 0.025\n",
    "market_price = 3.7\n",
    "print(\"Implied volatility =\", implied_vol(S0, K, T, r, market_price))\n"
   ]
  },
  {
   "cell_type": "code",
   "execution_count": null,
   "id": "968fbaf8-3c5a-45f7-b3b3-7c1e0e4ff452",
   "metadata": {},
   "outputs": [],
   "source": []
  }
 ],
 "metadata": {
  "kernelspec": {
   "display_name": "Python 3 (ipykernel)",
   "language": "python",
   "name": "python3"
  },
  "language_info": {
   "codemirror_mode": {
    "name": "ipython",
    "version": 3
   },
   "file_extension": ".py",
   "mimetype": "text/x-python",
   "name": "python",
   "nbconvert_exporter": "python",
   "pygments_lexer": "ipython3",
   "version": "3.11.6"
  }
 },
 "nbformat": 4,
 "nbformat_minor": 5
}
