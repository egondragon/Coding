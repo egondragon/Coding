{
 "cells": [
  {
   "cell_type": "code",
   "execution_count": 16,
   "id": "3fdb6d8d-2ad2-43b1-9116-2aa6adb588a7",
   "metadata": {},
   "outputs": [],
   "source": [
    "import numpy as np\n",
    "from functools import wraps\n",
    "from time import time\n",
    "\n",
    "def timing(f):\n",
    "    @wraps(f)\n",
    "    def wrap(*args, **kw):\n",
    "        ts = time()\n",
    "        result = f(*args, **kw)\n",
    "        te = time()\n",
    "        print('func:%r args:[%r, %r] took: %2.4f sec' % \\\n",
    "            (f.__name__, args, kw, te - ts))\n",
    "        return result\n",
    "    return wrap\n",
    "    "
   ]
  },
  {
   "cell_type": "code",
   "execution_count": 5,
   "id": "c37ccaad-3db6-4989-9079-63483860d850",
   "metadata": {},
   "outputs": [],
   "source": [
    "S0 = 100\n",
    "K = 100\n",
    "T = 1\n",
    "r = 0.06\n",
    "N = 3\n",
    "u = 1.1\n",
    "d = 1 / u\n",
    "opt_type = 'C'"
   ]
  },
  {
   "cell_type": "code",
   "execution_count": 17,
   "id": "9bdb46d1-3498-46d6-bfba-bbfcb05410ef",
   "metadata": {},
   "outputs": [],
   "source": [
    "@timing\n",
    "def binomial_tree_slow(S0, K, T, r, N, u, d, opt_type='C'):\n",
    "    # Pre Compute constants\n",
    "    dt = T / N\n",
    "    q = (np.exp(r * dt) - d) / (u - d)\n",
    "    disc = np.exp(-r * dt)\n",
    "    # Initialize the asset prices at maturity - Time step N\n",
    "    S = np.zeros(N + 1)\n",
    "    # Bottom of the last step in the tree\n",
    "    S[0] = S0 * d ** N\n",
    "    # Goes up\n",
    "    for j in range(1, N + 1):\n",
    "        S[j] = S[j - 1] * u / d\n",
    "    \n",
    "    # Initialize option values at maturity\n",
    "    C = np.zeros(N + 1)\n",
    "    for j in range(0, N + 1):\n",
    "        C[j] = max(0, S[j] - K)\n",
    "    # Step backwards through tree\n",
    "    for i in np.arange(N, 0, -1):\n",
    "        for j in range(0, i):\n",
    "            C[j] = disc * (q * C[j + 1] + (1 - q) * C[j])\n",
    "    \n",
    "    return C[0]\n"
   ]
  },
  {
   "cell_type": "code",
   "execution_count": 18,
   "id": "f99de8af-f60b-4e5a-989b-973c286ed11c",
   "metadata": {},
   "outputs": [
    {
     "name": "stdout",
     "output_type": "stream",
     "text": [
      "func:'binomial_tree_slow' args:[(100, 100, 1, 0.06, 3, 1.1, 0.9090909090909091), {'opt_type': 'C'}] took: 0.0002 sec\n"
     ]
    },
    {
     "data": {
      "text/plain": [
       "10.145735799928817"
      ]
     },
     "execution_count": 18,
     "metadata": {},
     "output_type": "execute_result"
    }
   ],
   "source": [
    "binomial_tree_slow(S0, K, T, r, N, u, d, opt_type='C')"
   ]
  },
  {
   "cell_type": "code",
   "execution_count": 19,
   "id": "2cf0941e-3642-4487-9f67-060ca924a95c",
   "metadata": {},
   "outputs": [
    {
     "name": "stdout",
     "output_type": "stream",
     "text": [
      "func:'binomial_tree_fast' args:[(100, 100, 1, 0.06, 3, 1.1, 0.9090909090909091), {'opt_type': 'C'}] took: 0.0004 sec\n"
     ]
    },
    {
     "data": {
      "text/plain": [
       "10.145735799928826"
      ]
     },
     "execution_count": 19,
     "metadata": {},
     "output_type": "execute_result"
    }
   ],
   "source": [
    "@timing\n",
    "def binomial_tree_fast(S0, K, T, r, N, u, d, opt_type='C'):\n",
    "    # Pre Compute constants\n",
    "    dt = T / N\n",
    "    q = (np.exp(r * dt) - d) / (u - d)\n",
    "    disc = np.exp(-r * dt)\n",
    "    \n",
    "    # Initialize the asset prices at maturity - Time step N\n",
    "    C = S0 * d ** (np.arange(N, -1, -1)) * u ** (np.arange(0, N + 1, 1))\n",
    "    \n",
    "    # Initialize option values at maturity\n",
    "    C = np.maximum(C - K, np.zeros(N + 1))\n",
    "\n",
    "    # Step backwards through tree\n",
    "    for i in np.arange(N, 0, -1):\n",
    "        C = disc * (q * C[1: i + 1] + (1 - q) * C[0 : i])\n",
    "    \n",
    "    return C[0]\n",
    "\n",
    "binomial_tree_fast(S0, K, T, r, N, u, d, opt_type='C')\n"
   ]
  },
  {
   "cell_type": "code",
   "execution_count": 20,
   "id": "31374c07-e40a-4d17-a4b1-799d4cf5fadc",
   "metadata": {
    "editable": true,
    "slideshow": {
     "slide_type": ""
    },
    "tags": []
   },
   "outputs": [
    {
     "name": "stdout",
     "output_type": "stream",
     "text": [
      "func:'binomial_tree_slow' args:[(100, 100, 1, 0.06, 3, 1.1, 0.9090909090909091), {'opt_type': 'C'}] took: 0.0001 sec\n",
      "func:'binomial_tree_fast' args:[(100, 100, 1, 0.06, 3, 1.1, 0.9090909090909091), {'opt_type': 'C'}] took: 0.0007 sec\n",
      "func:'binomial_tree_slow' args:[(100, 100, 1, 0.06, 50, 1.1, 0.9090909090909091), {'opt_type': 'C'}] took: 0.0015 sec\n",
      "func:'binomial_tree_fast' args:[(100, 100, 1, 0.06, 50, 1.1, 0.9090909090909091), {'opt_type': 'C'}] took: 0.0006 sec\n",
      "func:'binomial_tree_slow' args:[(100, 100, 1, 0.06, 100, 1.1, 0.9090909090909091), {'opt_type': 'C'}] took: 0.0057 sec\n",
      "func:'binomial_tree_fast' args:[(100, 100, 1, 0.06, 100, 1.1, 0.9090909090909091), {'opt_type': 'C'}] took: 0.0010 sec\n",
      "func:'binomial_tree_slow' args:[(100, 100, 1, 0.06, 1000, 1.1, 0.9090909090909091), {'opt_type': 'C'}] took: 0.2974 sec\n",
      "func:'binomial_tree_fast' args:[(100, 100, 1, 0.06, 1000, 1.1, 0.9090909090909091), {'opt_type': 'C'}] took: 0.0062 sec\n",
      "func:'binomial_tree_slow' args:[(100, 100, 1, 0.06, 5000, 1.1, 0.9090909090909091), {'opt_type': 'C'}] took: 6.6540 sec\n",
      "func:'binomial_tree_fast' args:[(100, 100, 1, 0.06, 5000, 1.1, 0.9090909090909091), {'opt_type': 'C'}] took: 0.0722 sec\n"
     ]
    }
   ],
   "source": [
    "for N in [3, 50, 100, 1000, 5000]:\n",
    "    binomial_tree_slow(S0, K, T, r, N, u, d, opt_type='C')\n",
    "    binomial_tree_fast(S0, K, T, r, N, u, d, opt_type='C')\n",
    "    "
   ]
  },
  {
   "cell_type": "code",
   "execution_count": 23,
   "id": "3b3ffbff-034f-465a-909f-5464b5dec01c",
   "metadata": {},
   "outputs": [
    {
     "data": {
      "text/plain": [
       "6.99963903901486"
      ]
     },
     "execution_count": 23,
     "metadata": {},
     "output_type": "execute_result"
    }
   ],
   "source": [
    "S0 = 100\n",
    "K = 100\n",
    "T = 1\n",
    "H = 125\n",
    "r = 0.06\n",
    "N = 3\n",
    "u = 1.1\n",
    "d = 1 / u\n",
    "opt_type = 'C'\n",
    "\n",
    "def barrier_tree_slow(K, T, S0, H, r, u, d, opt_type='C'):\n",
    "    # Pre cpmpute values\n",
    "    dt = T / N\n",
    "    q = (np.exp(r * dt) - u) / (u - d)\n",
    "    disc = np.exp(-r * dt)\n",
    "\n",
    "    # Init asset prices at maturity\n",
    "    S = np.zeros(N + 1)\n",
    "    for j in range(0, N + 1):\n",
    "        S[j]= S0 * u ** j * d ** (N - j)\n",
    "\n",
    "    # Option payoff\n",
    "    C = np.zeros(N + 1)\n",
    "    for j in range(0, N + 1):\n",
    "        if opt_type == 'C':\n",
    "            C[j] = max(0, S[j] - K)\n",
    "        else:\n",
    "            C[j] = max(0, K - S[j])\n",
    "    # Check terminal condition payoff\n",
    "    for j in range(0, N+ 1):\n",
    "        S = S0 * u ** j * d ** (N - j)\n",
    "        if S >= H:\n",
    "            C[j] = 0\n",
    "    # Backward recursion through the tree\n",
    "    for i in np.arange(N - 1, -1, -1):\n",
    "        for j in range(0, i + 1):\n",
    "            S = S0 * u ** j * d ** (N - j)\n",
    "            # Apply the barrier to filter out all stock values >= H\n",
    "            if S >= H:\n",
    "                C[j] = 0\n",
    "            else:\n",
    "                C[j] = disc * (q * C[j + 1] + (1 - q) * C[j])\n",
    "    return C[0]\n",
    "\n",
    "barrier_tree_slow(K, T, S0, H, r, u, d, opt_type='C')\n"
   ]
  },
  {
   "cell_type": "code",
   "execution_count": null,
   "id": "aadc59af-3532-46d3-a6af-26dd4295f492",
   "metadata": {},
   "outputs": [],
   "source": []
  }
 ],
 "metadata": {
  "kernelspec": {
   "display_name": "Python 3 (ipykernel)",
   "language": "python",
   "name": "python3"
  },
  "language_info": {
   "codemirror_mode": {
    "name": "ipython",
    "version": 3
   },
   "file_extension": ".py",
   "mimetype": "text/x-python",
   "name": "python",
   "nbconvert_exporter": "python",
   "pygments_lexer": "ipython3",
   "version": "3.11.6"
  }
 },
 "nbformat": 4,
 "nbformat_minor": 5
}
