{
 "cells": [
  {
   "cell_type": "code",
   "execution_count": 29,
   "id": "a0176d6f-6ddd-449b-a793-0467d73cce14",
   "metadata": {},
   "outputs": [],
   "source": [
    "import numpy as np\n",
    "from scipy.stats import norm\n",
    "from py_vollib.black_scholes import black_scholes as bs\n",
    "from py_vollib.black_scholes.greeks.analytical import delta, gamma, vega, theta, rho\n",
    "\n",
    "def blackScholes(r, S, K, T, sigma, type=\"c\"):\n",
    "    # Compute B&S price for call/put\n",
    "    d1 = (np.log(S/K) + (r + sigma**2/2) * T)/(sigma * np.sqrt(T))\n",
    "    d2 = d1 - sigma * np.sqrt(T)\n",
    "    try:\n",
    "        if type == \"c\":\n",
    "            price = S * norm.cdf(d1, 0, 1) - K * np.exp(-r * T) * norm.cdf(d2, 0, 1)\n",
    "        elif type == \"p\":\n",
    "            price = K * np.exp(-r * T) * norm.cdf(-d2, 0, 1) - S * norm.cdf(-d1, 0, 1)\n",
    "        return round(price, 2), round(bs(type, S, K, T, r, sigma), 2)\n",
    "    except:\n",
    "        print(\"Please confirm all option parameters above !!!\")\n",
    "        "
   ]
  },
  {
   "cell_type": "code",
   "execution_count": 7,
   "id": "4672745c-d87d-40e4-89a9-dc1947ee6e47",
   "metadata": {},
   "outputs": [
    {
     "name": "stdout",
     "output_type": "stream",
     "text": [
      "Option Price is :  (0.5132843798399405, 0.5132843798399411)\n",
      "Option Price is :  (10.251133491653508, 10.2511334916535)\n"
     ]
    }
   ],
   "source": [
    "r = 0.01\n",
    "S = 30\n",
    "K = 40\n",
    "T = 240/365\n",
    "sigma = 0.30\n",
    "print(\"Option Price is : \", blackScholes(r, S, K, T, sigma, type=\"c\"))\n",
    "print(\"Option Price is : \", blackScholes(r, S, K, T, sigma, type=\"p\"))\n"
   ]
  },
  {
   "cell_type": "code",
   "execution_count": 8,
   "id": "f2ddd3f5-a0e0-4581-8330-18abe368a08b",
   "metadata": {},
   "outputs": [],
   "source": [
    "def delta_calc(r, S, K, T, sigma, type=\"c\"):\n",
    "    d1 = (np.log(S/K) + (r + sigma ** 2 / 2) * T) / (sigma * np.sqrt(T))\n",
    "    try:\n",
    "        if type == \"c\":\n",
    "            delta_calc = norm.cdf(d1, 0, 1)\n",
    "        elif type == \"p\":\n",
    "            delta_calc = -norm.cdf(-d1, 0, 1)\n",
    "        return delta_calc, delta(type, S, K, T, r, sigma)\n",
    "    except:\n",
    "        print(\"Please confirm option type, either 'c' for Call or 'p' for Put !\")\n",
    "        "
   ]
  },
  {
   "cell_type": "code",
   "execution_count": 9,
   "id": "6ab6a6c7-5671-411d-a340-c005136915c7",
   "metadata": {},
   "outputs": [],
   "source": [
    "def gamma_calc(r, S, K, T, sigma, type=\"c\"):\n",
    "    # Compute gamma of an option\n",
    "    d1 = (np.log(S/K) + (r + sigma ** 2 / 2) * T) / (sigma * np.sqrt(T))\n",
    "    d2 = d1 - sigma * np.sqrt(T)\n",
    "    try:\n",
    "        gamma_calc = norm.pdf(d1, 0, 1) / (S * sigma * np.sqrt(T))\n",
    "        return gamma_calc, gamma(type, S, K, T, r, sigma)\n",
    "    except:\n",
    "        print(\"Please confirm option type, either 'c' for Call or 'p' for Put !\")\n"
   ]
  },
  {
   "cell_type": "code",
   "execution_count": 10,
   "id": "5e5f7628-89f1-4816-8b7c-0ff90b66b78e",
   "metadata": {},
   "outputs": [],
   "source": [
    "def vega_calc(r, S, K, T, sigma, type=\"c\"):\n",
    "    d1 = (np.log(S/K) + (r + sigma ** 2 / 2) * T) / (sigma * np.sqrt(T))\n",
    "    d2 = d1 - sigma * np.sqrt(T)\n",
    "    try:\n",
    "        vega_calc = S * norm.pdf(d1, 0, 1) * np.sqrt(T)\n",
    "        return vega_calc, vega(type, S, K, T, r, sigma)\n",
    "    except:\n",
    "        print(\"Please confirm option type, either 'c' for Call or 'p' for Put !\")\n"
   ]
  },
  {
   "cell_type": "code",
   "execution_count": 27,
   "id": "de8c6c1b-28b4-4e69-b4eb-f3f69fc90f98",
   "metadata": {},
   "outputs": [],
   "source": [
    "def theta_calc(r, S, K, T, sigma, type=\"c\"):\n",
    "    d1 = (np.log(S/K) + (r + sigma ** 2 / 2) * T) / (sigma * np.sqrt(T))\n",
    "    d2 = d1 - sigma * np.sqrt(T)\n",
    "    try:\n",
    "        if type == \"c\":\n",
    "            theta_calc = -S*norm.pdf(d1, 0, 1)*sigma/(2*np.sqrt(T)) - r*K*np.exp(-r*T)*norm.cdf(d2, 0, 1)\n",
    "        elif type == \"p\":\n",
    "            theta_calc = -S*norm.pdf(d1, 0, 1)*sigma/(2*np.sqrt(T)) + r*K*np.exp(-r*T)*norm.cdf(-d2, 0, 1)\n",
    "        return theta_calc, theta(type, S, K, T, r, sigma)\n",
    "    except:\n",
    "        print(\"Please confirm option type, either 'c' for Call or 'p' for Put !\")\n"
   ]
  },
  {
   "cell_type": "code",
   "execution_count": 20,
   "id": "b31a3de6-651f-40a9-b3dc-45f7131e72a9",
   "metadata": {},
   "outputs": [],
   "source": [
    "def rho_calc(r, S, K, T, sigma, type=\"c\"):\n",
    "    d1 = (np.log(S/K) + (r + sigma ** 2 / 2) * T) / (sigma * np.sqrt(T))\n",
    "    d2 = d1 - sigma * np.sqrt(T)\n",
    "    try:\n",
    "        if type == \"c\":\n",
    "            rho_calc = K * T * np.exp(-r * T) * norm.cdf(d2, 0, 1)\n",
    "        elif type == \"p\":\n",
    "            rho_calc = -K * T * np.exp(-r * T) * norm.cdf(-d2, 0, 1)\n",
    "        return rho_calc, rho(type, S, K, T, r, sigma)\n",
    "    except:\n",
    "        print(\"Please confirm option type, either 'c' for Call or 'p' for Put !\")\n",
    "        "
   ]
  },
  {
   "cell_type": "code",
   "execution_count": 13,
   "id": "e6c4018c-d373-4e16-a119-95e9c836f0f0",
   "metadata": {},
   "outputs": [
    {
     "name": "stdout",
     "output_type": "stream",
     "text": [
      "Option price:  [0.513, 0.513]\n"
     ]
    }
   ],
   "source": [
    "option_type = 'c'\n",
    "print(\"Option price: \", [round(x, 3) for x in blackScholes(r, S, K, T, sigma, option_type)])"
   ]
  },
  {
   "cell_type": "code",
   "execution_count": 32,
   "id": "27c52645-6e5b-422d-8579-bbe0b4374168",
   "metadata": {},
   "outputs": [
    {
     "name": "stdout",
     "output_type": "stream",
     "text": [
      "       Delta:  [0.151, 0.151]\n",
      "       Gamma:  [0.032, 0.032]\n",
      "       Vega:  [5.687, 0.057]\n",
      "       Theta:  [-1.337, -0.004]\n",
      "       Rho:  [2.633, 0.026]\n"
     ]
    }
   ],
   "source": [
    "print(\"       Delta: \", [round(x, 3) for x in delta_calc(r, S, K, T, sigma, option_type)])\n",
    "print(\"       Gamma: \", [round(x, 3) for x in gamma_calc(r, S, K, T, sigma, option_type)])\n",
    "print(\"       Vega: \", [round(x, 3) for x in vega_calc(r, S, K, T, sigma, option_type)])\n",
    "print(\"       Theta: \", [round(x, 3) for x in theta_calc(r, S, K, T, sigma, option_type)])\n",
    "print(\"       Rho: \", [round(x, 3) for x in rho_calc(r, S, K, T, sigma, option_type)])\n"
   ]
  },
  {
   "cell_type": "code",
   "execution_count": null,
   "id": "5b5035e6-090c-428a-8b01-1d6c8ecb5c70",
   "metadata": {},
   "outputs": [],
   "source": []
  }
 ],
 "metadata": {
  "kernelspec": {
   "display_name": "Python 3 (ipykernel)",
   "language": "python",
   "name": "python3"
  },
  "language_info": {
   "codemirror_mode": {
    "name": "ipython",
    "version": 3
   },
   "file_extension": ".py",
   "mimetype": "text/x-python",
   "name": "python",
   "nbconvert_exporter": "python",
   "pygments_lexer": "ipython3",
   "version": "3.11.6"
  }
 },
 "nbformat": 4,
 "nbformat_minor": 5
}
