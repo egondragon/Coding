{
 "cells": [
  {
   "cell_type": "code",
   "execution_count": 1,
   "id": "2de5303d-ad83-454f-8f03-ae1ffc0fe57d",
   "metadata": {},
   "outputs": [],
   "source": [
    "import numpy as np\n",
    "from scipy.stats import norm"
   ]
  },
  {
   "cell_type": "code",
   "execution_count": 2,
   "id": "e20e3fd9-91d5-4ff3-87d7-7731dd436027",
   "metadata": {},
   "outputs": [],
   "source": [
    "r = 0.01\n",
    "S = 30\n",
    "K = 40\n",
    "T = 240/365\n",
    "sigma = 0.30"
   ]
  },
  {
   "cell_type": "code",
   "execution_count": 3,
   "id": "fbfa98f2-d620-4081-b75b-e42f973f053e",
   "metadata": {},
   "outputs": [],
   "source": [
    "def blackScholes(r, S, K, T, sigma, type=\"C\"):\n",
    "    # Compute B&S price for call/put\n",
    "    d1 = (np.log(S/K) + (r + sigma**2/2) * T)/(sigma * np.sqrt(T))\n",
    "    d2 = d1 - sigma * np.sqrt(T)\n",
    "    try:\n",
    "        if type == \"C\":\n",
    "            price = S * norm.cdf(d1, 0, 1) - K * np.exp(-r * T) * norm.cdf(d2, 0, 1)\n",
    "        elif type == \"P\":\n",
    "            price = K * np.exp(-r * T) * norm.cdf(-d2, 0, 1) - S * norm.cdf(-d1, 0, 1)\n",
    "        return price\n",
    "    except:\n",
    "        print(\"Please confirm all option parameters above !!!\")\n"
   ]
  },
  {
   "cell_type": "code",
   "execution_count": 5,
   "id": "392b3d6e-397a-416f-83df-4e6c915df41e",
   "metadata": {},
   "outputs": [
    {
     "name": "stdout",
     "output_type": "stream",
     "text": [
      "Option Price is :  0.51\n"
     ]
    }
   ],
   "source": [
    "print(\"Option Price is : \", round(blackScholes(r, S, K, T, sigma, type=\"C\"), 2))"
   ]
  },
  {
   "cell_type": "code",
   "execution_count": 6,
   "id": "533214d4-16ac-4e84-a3e9-19f1d93fcb4d",
   "metadata": {},
   "outputs": [
    {
     "name": "stdout",
     "output_type": "stream",
     "text": [
      "Option Price is :  10.25\n"
     ]
    }
   ],
   "source": [
    "print(\"Option Price is : \", round(blackScholes(r, S, K, T, sigma, type=\"P\"), 2))"
   ]
  },
  {
   "cell_type": "code",
   "execution_count": null,
   "id": "9e62b75e-ccf6-450a-bd89-f19d4d506c81",
   "metadata": {},
   "outputs": [],
   "source": []
  }
 ],
 "metadata": {
  "kernelspec": {
   "display_name": "Python 3 (ipykernel)",
   "language": "python",
   "name": "python3"
  },
  "language_info": {
   "codemirror_mode": {
    "name": "ipython",
    "version": 3
   },
   "file_extension": ".py",
   "mimetype": "text/x-python",
   "name": "python",
   "nbconvert_exporter": "python",
   "pygments_lexer": "ipython3",
   "version": "3.11.6"
  }
 },
 "nbformat": 4,
 "nbformat_minor": 5
}
